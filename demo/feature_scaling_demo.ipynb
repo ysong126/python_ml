{
 "cells": [
  {
   "cell_type": "markdown",
   "id": "faae378e",
   "metadata": {},
   "source": [
    "## This notebook compares three sklearn scalers in normalizing features\n",
    "\n",
    "### 1)min-max scaler ignores outliers. all data will be on the interval [0,1]\n",
    "### 2)standars scaler works better if the underlying distribution is close to normal\n",
    "### 3)normalizer operates row-wise and scales the row to norm 1"
   ]
  },
  {
   "cell_type": "code",
   "execution_count": null,
   "id": "7278bb8f",
   "metadata": {},
   "outputs": [],
   "source": [
    "from sklearn.datasets import make_classification\n",
    "from sklearn.preprocessing import MinMaxScaler,Normalizer,StandardScaler\n",
    "import matplotlib.pyplot as plt\n",
    "import pandas as pd"
   ]
  },
  {
   "cell_type": "code",
   "execution_count": 9,
   "id": "aa7efb72",
   "metadata": {},
   "outputs": [
    {
     "name": "stdout",
     "output_type": "stream",
     "text": [
      "X before standardlization\n",
      "[[ 2.39324489 -5.77732048 -0.59062319 -2.08095322  1.04707034]\n",
      " [-0.45820294  1.94683482 -2.46471441  2.36590955 -0.73666725]\n",
      " [ 2.35162422 -1.00061698 -0.5946091   1.12531096 -0.65267587]]\n",
      "X after standardlization\n",
      "[[0.77608466 0.0239289  0.48251588 0.18352101 0.59830036]\n",
      " [0.40400165 0.79590304 0.27369632 0.6331332  0.42104156]\n",
      " [0.77065362 0.50132629 0.48207176 0.5076991  0.4293882 ]]\n",
      "fitting data using fit and transform separately\n",
      "[[0.77608466 0.0239289  0.48251588 0.18352101 0.59830036]\n",
      " [0.40400165 0.79590304 0.27369632 0.6331332  0.42104156]\n",
      " [0.77065362 0.50132629 0.48207176 0.5076991  0.4293882 ]]\n"
     ]
    }
   ],
   "source": [
    "# generate random samples\n",
    "X,y = make_classification(n_samples = 1000,n_features =5,n_informative=5,n_redundant=0,random_state=1)\n",
    "print('X before standardlization')\n",
    "print(X[:3,:])\n",
    "# X-min(X)/(max(X)-min(X))\n",
    "# MinMaxScaler re-scale the variables by column\n",
    "scaler = MinMaxScaler()\n",
    "scaled_X = scaler.fit_transform(X)\n",
    "print('X after standardlization')\n",
    "print(scaled_X[:3,:])\n",
    "# fit again\n",
    "print('fitting data using fit and transform separately')\n",
    "scaler.fit(X)\n",
    "scaled_X2 = scaler.transform(X)\n",
    "print(scaled_X2[:3,:])"
   ]
  },
  {
   "cell_type": "code",
   "execution_count": 13,
   "id": "8e5f3a18",
   "metadata": {},
   "outputs": [
    {
     "name": "stdout",
     "output_type": "stream",
     "text": [
      "X before standardlization\n",
      "[[ 2.39324489 -5.77732048 -0.59062319 -2.08095322  1.04707034]\n",
      " [-0.45820294  1.94683482 -2.46471441  2.36590955 -0.73666725]\n",
      " [ 2.35162422 -1.00061698 -0.5946091   1.12531096 -0.65267587]]\n",
      "X after standardlization\n",
      "[[ 1.67152475 -4.00938431 -0.02146232 -2.01058854  0.97742549]\n",
      " [-0.33677098  0.94960782 -1.17380472  0.88773515 -0.13654955]\n",
      " [ 1.64221101 -0.94268846 -0.02391318  0.07915245 -0.08409548]]\n"
     ]
    }
   ],
   "source": [
    "# StandardScaler\n",
    "standard_scaler  = StandardScaler()\n",
    "print('X before standardlization')\n",
    "print(X[:3,:])\n",
    "# X-avg(X)/std(X)\n",
    "# StandardScaler re-scale the variables by column\n",
    "scaled_X = standard_scaler.fit_transform(X)\n",
    "print('X after standardlization')\n",
    "print(scaled_X[:3,:])"
   ]
  },
  {
   "cell_type": "code",
   "execution_count": 31,
   "id": "cb73237a",
   "metadata": {},
   "outputs": [
    {
     "data": {
      "image/png": "[encoded data removed]",
      "text/plain": [
       "<Figure size 432x288 with 6 Axes>"
      ]
     },
     "metadata": {
      "needs_background": "light"
     },
     "output_type": "display_data"
    }
   ],
   "source": [
    "fig,ax = plt.subplots(2,3,tight_layout=True)\n",
    "for i in range(5):\n",
    "    r = i//3\n",
    "    c = i%3\n",
    "    ax[r,c].hist(X[:,i], density=False, bins=100)"
   ]
  },
  {
   "cell_type": "code",
   "execution_count": 32,
   "id": "77b7b93a",
   "metadata": {},
   "outputs": [
    {
     "data": {
      "image/png": "[encoded data removed]",
      "text/plain": [
       "<Figure size 432x288 with 6 Axes>"
      ]
     },
     "metadata": {
      "needs_background": "light"
     },
     "output_type": "display_data"
    }
   ],
   "source": [
    "fig,ax = plt.subplots(2,3,tight_layout=True)\n",
    "for i in range(5):\n",
    "    r = i//3\n",
    "    c = i%3\n",
    "    ax[r,c].hist(scaled_X[:,i], density=False, bins=100)"
   ]
  },
  {
   "cell_type": "code",
   "execution_count": 33,
   "id": "2342396d",
   "metadata": {},
   "outputs": [
    {
     "data": {
      "image/png": "[encoded data removed]",
      "text/plain": [
       "<Figure size 432x288 with 6 Axes>"
      ]
     },
     "metadata": {
      "needs_background": "light"
     },
     "output_type": "display_data"
    }
   ],
   "source": [
    "fig,ax = plt.subplots(2,3,tight_layout=True)\n",
    "for i in range(5):\n",
    "    r = i//3\n",
    "    c = i%3\n",
    "    ax[r,c].hist(scaled_X2[:,i], density=False, bins=100)"
   ]
  },
  {
   "cell_type": "code",
   "execution_count": 40,
   "id": "eb800652",
   "metadata": {},
   "outputs": [
    {
     "name": "stdout",
     "output_type": "stream",
     "text": [
      "                 0            1            2            3            4\n",
      "count  1000.000000  1000.000000  1000.000000  1000.000000  1000.000000\n",
      "mean      0.019956     0.467720    -0.555718     1.003868    -0.518019\n",
      "std       1.420545     1.558385     1.627146     1.535056     1.602038\n",
      "min      -3.554258    -6.016746    -4.921054    -3.896057    -4.973566\n",
      "25%      -1.068737    -0.329898    -1.685522    -0.000439    -1.657853\n",
      "50%      -0.093996     0.681331    -0.515373     1.037245    -0.578766\n",
      "75%       1.106043     1.505853     0.591245     2.041581     0.425395\n",
      "max       4.109214     3.988971     4.053637     5.994384     5.089334\n",
      "                  0             1             2             3             4\n",
      "count  1.000000e+03  1.000000e+03  1.000000e+03  1.000000e+03  1.000000e+03\n",
      "mean  -5.684342e-17  7.105427e-18 -5.755396e-16  3.694822e-16 -3.570477e-16\n",
      "std    1.000500e+00  1.000500e+00  1.000500e+00  1.000500e+00  1.000500e+00\n",
      "min   -2.517346e+00 -4.163098e+00 -2.684161e+00 -3.193615e+00 -2.782567e+00\n",
      "25%   -7.667747e-01 -5.120796e-01 -6.946943e-01 -6.545757e-01 -7.118458e-01\n",
      "50%   -8.025758e-02  1.371403e-01  2.480774e-02  2.175417e-02 -3.793744e-02\n",
      "75%    7.649392e-01  6.664924e-01  7.052454e-01  6.763481e-01  5.891787e-01\n",
      "max    2.880094e+00  2.260682e+00  2.834203e+00  3.252659e+00  3.501889e+00\n",
      "                 0            1            2            3            4\n",
      "count  1000.000000  1000.000000  1000.000000  1000.000000  1000.000000\n",
      "mean      0.466396     0.648076     0.486405     0.495420     0.442770\n",
      "std       0.185366     0.155749     0.181304     0.155206     0.159202\n",
      "min       0.000000     0.000000     0.000000     0.000000     0.000000\n",
      "25%       0.324334     0.568360     0.360517     0.393877     0.329499\n",
      "50%       0.451527     0.669425     0.490901     0.498795     0.436733\n",
      "75%       0.608119     0.751830     0.614205     0.600341     0.536521\n",
      "max       1.000000     1.000000     1.000000     1.000000     1.000000\n"
     ]
    }
   ],
   "source": [
    "print(pd.DataFrame(X).describe()) # original\n",
    "print(pd.DataFrame(scaled_X).describe()) # standard\n",
    "print(pd.DataFrame(scaled_X2).describe()) # min/max"
   ]
  },
  {
   "cell_type": "code",
   "execution_count": null,
   "id": "0131e3a3",
   "metadata": {},
   "outputs": [],
   "source": []
  }
 ],
 "metadata": {
  "kernelspec": {
   "display_name": "Python 3",
   "language": "python",
   "name": "python3"
  },
  "language_info": {
   "codemirror_mode": {
    "name": "ipython",
    "version": 3
   },
   "file_extension": ".py",
   "mimetype": "text/x-python",
   "name": "python",
   "nbconvert_exporter": "python",
   "pygments_lexer": "ipython3",
   "version": "3.7.9"
  }
 },
 "nbformat": 4,
 "nbformat_minor": 5
}
