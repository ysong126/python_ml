{
 "cells": [
  {
   "cell_type": "code",
   "execution_count": 29,
   "id": "e5297bcd",
   "metadata": {},
   "outputs": [],
   "source": [
    "import numpy as np\n",
    "import matplotlib.pyplot as plt\n"
   ]
  },
  {
   "cell_type": "code",
   "execution_count": 21,
   "id": "3fe7558d",
   "metadata": {},
   "outputs": [],
   "source": [
    "# gradient descent \n",
    "def gradient_descent(gradient,X,y,start,learn_rate,n_iter=100,tolerance = 1e-6):\n",
    "    vector = start\n",
    "    for _ in range(n_iter):\n",
    "        diff = learn_rate*(gradient(X,y,vector))\n",
    "        if np.max(np.abs(diff))<=tolerance:\n",
    "            break\n",
    "        vector -= diff\n",
    "    return vector"
   ]
  },
  {
   "cell_type": "code",
   "execution_count": 8,
   "id": "4f35d4a3",
   "metadata": {},
   "outputs": [
    {
     "data": {
      "text/plain": [
       "4.017345110647478e-06"
      ]
     },
     "execution_count": 8,
     "metadata": {},
     "output_type": "execute_result"
    }
   ],
   "source": [
    "gradient_descent(gradient=lambda v:2*v, start=10,learn_rate=0.1)"
   ]
  },
  {
   "cell_type": "code",
   "execution_count": 15,
   "id": "46079dc9",
   "metadata": {},
   "outputs": [],
   "source": [
    "def f(v):\n",
    "    return np.array([v[0]*2, 4*v[1]**3])"
   ]
  },
  {
   "cell_type": "code",
   "execution_count": 16,
   "id": "ca897d62",
   "metadata": {},
   "outputs": [
    {
     "data": {
      "text/plain": [
       "array([2.03703598e-10, 1.09038767e-01])"
      ]
     },
     "execution_count": 16,
     "metadata": {},
     "output_type": "execute_result"
    }
   ],
   "source": [
    "gradient_descent(f,start=[1,1],learn_rate =0.1)"
   ]
  },
  {
   "cell_type": "code",
   "execution_count": 45,
   "id": "30db3ed6",
   "metadata": {},
   "outputs": [],
   "source": [
    "def ssr_gradient(x,y,b):\n",
    "    res = y - b[0] - b[1]*x\n",
    "    return np.array([(-1)*res.mean(), (-1)*(res*x).mean()])"
   ]
  },
  {
   "cell_type": "code",
   "execution_count": 66,
   "id": "a959c013",
   "metadata": {},
   "outputs": [],
   "source": [
    "X = np.array([5,16,27,36,45,55])\n",
    "y = np.array([5,20,22,31,22,38])"
   ]
  },
  {
   "cell_type": "code",
   "execution_count": 67,
   "id": "ecdbf7fa",
   "metadata": {},
   "outputs": [],
   "source": [
    "b0,b1=gradient_descent(ssr_gradient,X,y,[0.5,0.5],learn_rate=0.001,n_iter=1000)"
   ]
  },
  {
   "cell_type": "code",
   "execution_count": 88,
   "id": "851617d1",
   "metadata": {},
   "outputs": [
    {
     "data": {
      "text/plain": [
       "<matplotlib.legend.Legend at 0x7fd63987ef90>"
      ]
     },
     "execution_count": 88,
     "metadata": {},
     "output_type": "execute_result"
    },
    {
     "data": {
      "image/png": "[encoded data removed]",
      "text/plain": [
       "<Figure size 432x288 with 1 Axes>"
      ]
     },
     "metadata": {
      "needs_background": "light"
     },
     "output_type": "display_data"
    }
   ],
   "source": [
    "X_coor = np.linspace(0,70,100)\n",
    "y_coor = b1*X_coor+b0\n",
    "plt.scatter(X,y,label='sample')\n",
    "plt.plot(X_coor,y_coor,'-.',color='r',label='gradient descent OLS')\n",
    "plt.legend()"
   ]
  },
  {
   "cell_type": "code",
   "execution_count": 60,
   "id": "a490f949",
   "metadata": {},
   "outputs": [
    {
     "data": {
      "text/plain": [
       "array([  25,  300,  525, 1120,  990, 2090])"
      ]
     },
     "execution_count": 60,
     "metadata": {},
     "output_type": "execute_result"
    }
   ],
   "source": [
    "# note  X*y is element-wise multiplication\n",
    "X*y"
   ]
  },
  {
   "cell_type": "code",
   "execution_count": 82,
   "id": "baca8377",
   "metadata": {},
   "outputs": [],
   "source": [
    "# Stochastic Gradient Descent\n",
    "\n",
    "def sgd(gradient,X,y,start,learn_rate=0.01,decay_rate=0.0,batch_size=2,\\\n",
    "        n_iter=100,tolerance =1e-6,dtype='float64',random_state=42):\n",
    "    \n",
    "    if not callable(gradient):\n",
    "        raise TypeError('gradient not callable')\n",
    "        \n",
    "    n_obs = X.shape[0]\n",
    "    \n",
    "    vector = np.array(start)\n",
    "    \n",
    "    batch_size =int(batch_size)\n",
    "    n_iter = int(n_iter)\n",
    "    \n",
    "    X_y = np.c_[X.reshape(n_obs,-1),y.reshape(n_obs,1)]\n",
    "    \n",
    "    rng = np.random.default_rng()\n",
    "    diff=0\n",
    "    for _ in range(n_iter):\n",
    "        rng.shuffle(X_y)\n",
    "        \n",
    "        for begin in range(0,n_obs,batch_size):\n",
    "            stop =  begin+batch_size\n",
    "            X_batch, y_batch = X_y[begin:stop,:-1], X_y[begin:stop,-1]\n",
    "            \n",
    "            grad = np.array(gradient(X_batch,y_batch,vector))\n",
    "    \n",
    "            diff = decay_rate*diff-learn_rate*grad\n",
    "        \n",
    "            if np.max(np.abs(diff))<=tolerance:\n",
    "                break\n",
    "                \n",
    "            vector += diff\n",
    "            \n",
    "    return vector"
   ]
  },
  {
   "cell_type": "code",
   "execution_count": 90,
   "id": "94e42667",
   "metadata": {},
   "outputs": [
    {
     "name": "stdout",
     "output_type": "stream",
     "text": [
      "b0 sgd:1.0808802531040549 b1 sgd:0.8845083929797618\n",
      "b0 1.819858153147457 b10.6525722427040171\n"
     ]
    }
   ],
   "source": [
    "b0_sgd,b1_sgd = sgd(ssr_gradient,X,y,[0.5,0.5],learn_rate=0.001,decay_rate=0.0,batch_size=2, n_iter=50,tolerance =1e-6,dtype='float64',random_state=42)\n",
    "print(f\"b0 sgd:{b0_sgd} b1 sgd:{b1_sgd}\")\n",
    "print(f\"b0 {b0} b1{b1}\")"
   ]
  },
  {
   "cell_type": "code",
   "execution_count": 89,
   "id": "d3aacde4",
   "metadata": {},
   "outputs": [
    {
     "data": {
      "text/plain": [
       "<matplotlib.legend.Legend at 0x7fd639f35090>"
      ]
     },
     "execution_count": 89,
     "metadata": {},
     "output_type": "execute_result"
    },
    {
     "data": {
      "image/png": "[encoded data removed]",
      "text/plain": [
       "<Figure size 432x288 with 1 Axes>"
      ]
     },
     "metadata": {
      "needs_background": "light"
     },
     "output_type": "display_data"
    }
   ],
   "source": [
    "X_coor = np.linspace(0,70,100)\n",
    "y_coor_sgd = b1_sgd*X_coor+b0_sgd\n",
    "plt.scatter(X,y,label='sample')\n",
    "plt.plot(X_coor,y_coor,'-.',color='grey',label='gradient descent OLS')\n",
    "plt.plot(X_coor,y_coor_sgd,'-.',color='r',label='stochastic gradient descent OLS')\n",
    "plt.legend()"
   ]
  },
  {
   "cell_type": "code",
   "execution_count": null,
   "id": "92d17f7b",
   "metadata": {},
   "outputs": [],
   "source": [
    "# Reference: Stochastic Gradient Descent Algorithm With Python and NumPy\n",
    "# https://realpython.com/gradient-descent-algorithm-python/"
   ]
  }
 ],
 "metadata": {
  "kernelspec": {
   "display_name": "Python 3",
   "language": "python",
   "name": "python3"
  },
  "language_info": {
   "codemirror_mode": {
    "name": "ipython",
    "version": 3
   },
   "file_extension": ".py",
   "mimetype": "text/x-python",
   "name": "python",
   "nbconvert_exporter": "python",
   "pygments_lexer": "ipython3",
   "version": "3.7.9"
  }
 },
 "nbformat": 4,
 "nbformat_minor": 5
}
