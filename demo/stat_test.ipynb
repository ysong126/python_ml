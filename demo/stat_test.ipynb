{
 "cells": [
  {
   "cell_type": "markdown",
   "id": "9c5d7ef1",
   "metadata": {},
   "source": [
    "## This notebook provides several demos for sampling and conducting statistical tests"
   ]
  },
  {
   "cell_type": "code",
   "execution_count": 1,
   "id": "7bd069f1",
   "metadata": {},
   "outputs": [
    {
     "name": "stdout",
     "output_type": "stream",
     "text": [
      "the random number is 0.02444884398584435\n"
     ]
    }
   ],
   "source": [
    "import random\n",
    "# random float on (0,1)\n",
    "r0 = random.random()\n",
    "print(f\"the random number is {r0}\")"
   ]
  },
  {
   "cell_type": "code",
   "execution_count": 2,
   "id": "eb911d20",
   "metadata": {},
   "outputs": [
    {
     "name": "stdout",
     "output_type": "stream",
     "text": [
      "the random interger is 20\n"
     ]
    }
   ],
   "source": [
    "# random integer on [a,b]\n",
    "r1 = random.randint(10,25)\n",
    "print(f\"the random interger is {r1}\")"
   ]
  },
  {
   "cell_type": "code",
   "execution_count": 3,
   "id": "98c4c7d0",
   "metadata": {},
   "outputs": [
    {
     "name": "stdout",
     "output_type": "stream",
     "text": [
      "the random value from this uniform distribution is10.510983786281297\n"
     ]
    }
   ],
   "source": [
    "# random from uniform([a,b]) closed interval\n",
    "r2 = random.uniform(5,12)\n",
    "print(f\"the random value from this uniform distribution is {r2}\")"
   ]
  },
  {
   "cell_type": "code",
   "execution_count": 16,
   "id": "9c39d6bc",
   "metadata": {},
   "outputs": [
    {
     "name": "stdout",
     "output_type": "stream",
     "text": [
      "the sample we have drawn is ['diamond', 'heart', 'heart']\n"
     ]
    }
   ],
   "source": [
    "# sample from a sequence(list,array,tuple...)\n",
    "# with replacement --- choice()/choices()\n",
    "space = ['spade','heart','club','diamond']\n",
    "sample0 = random.choices(space,k=3)\n",
    "print(f\"the sample we have drawn is {sample0}\")"
   ]
  },
  {
   "cell_type": "code",
   "execution_count": 14,
   "id": "cef6224a",
   "metadata": {},
   "outputs": [
    {
     "name": "stdout",
     "output_type": "stream",
     "text": [
      "the sample we have drawn without replacement is ['diamond', 'spade', 'heart']\n"
     ]
    }
   ],
   "source": [
    "# without replacement ----- sample()\n",
    "sample1 = random.sample(space,3)\n",
    "print(f\"the sample we have drawn without replacement is {sample1}\")"
   ]
  },
  {
   "cell_type": "code",
   "execution_count": 17,
   "id": "208494d7",
   "metadata": {},
   "outputs": [
    {
     "name": "stdout",
     "output_type": "stream",
     "text": [
      "the random array is [0.19397429 0.43862155 0.60902281 0.5121385  0.31699871 0.96053458\n",
      " 0.30181583 0.91935881 0.83234423 0.34601775]\n"
     ]
    }
   ],
   "source": [
    "# use numpy to generate arrays of random numbers \n",
    "import numpy as np\n",
    "\n",
    "# array of 10 elements each being a random float on [0,1)\n",
    "a0 = np.random.rand(10)\n",
    "print( f\"the random array is {a0}\")"
   ]
  },
  {
   "cell_type": "code",
   "execution_count": 19,
   "id": "573f2075",
   "metadata": {},
   "outputs": [
    {
     "name": "stdout",
     "output_type": "stream",
     "text": [
      "the random array of a standard normal is\n",
      " [ 1.6490717   0.00970276  0.82577097  0.06567011  0.8899184  -0.40007803\n",
      " -1.47187624  2.16721869  0.57274969 -0.22930368]\n"
     ]
    }
   ],
   "source": [
    "# standard normal \n",
    "a1 = np.random.randn(10)\n",
    "print( f\"the random array of a standard normal is\\n {a1}\")"
   ]
  },
  {
   "cell_type": "code",
   "execution_count": 27,
   "id": "bd2f8d7c",
   "metadata": {},
   "outputs": [
    {
     "data": {
      "text/plain": [
       "array([8, 9, 4, 8, 1, 3, 8, 1, 6, 3])"
      ]
     },
     "execution_count": 27,
     "metadata": {},
     "output_type": "execute_result"
    }
   ],
   "source": [
    "# [a,b) random array\n",
    "a,b=1,10\n",
    "np.random.randint(1,10,size=10)"
   ]
  },
  {
   "cell_type": "code",
   "execution_count": 28,
   "id": "9e2c124e",
   "metadata": {},
   "outputs": [
    {
     "name": "stdout",
     "output_type": "stream",
     "text": [
      "Z value is 1.788854381999821\n",
      "P-value is 0.9631808649398478\n",
      "Cannot reject H0. p-value: 0.9631808649398478 > 0.05 \n"
     ]
    }
   ],
   "source": [
    "# hypothesis testing\n",
    "from scipy import stats\n",
    "data = np.array([-0.547,-0.532,-0.548,-0.531,-0.535])\n",
    "mean,std= -0.545,0.008 # population mean and std\n",
    "sample_mean = data.mean()\n",
    "sample_len = len(data)\n",
    "Z = (sample_mean-mean)/(std/np.sqrt(sample_len))\n",
    "print(f\"Z value is {Z}\")\n",
    "\n",
    "# p-value\n",
    "P = stats.norm.cdf(Z)\n",
    "print(f\"P-value is {P}\")\n",
    "alpha = 0.05 # significance level\n",
    "if P>=alpha: \n",
    "    print(f\"Cannot reject H0. p-value: {P} > {alpha} \")\n",
    "else:\n",
    "    print(f\"Reject H0. p-value: {P}< {alpha}\")\n"
   ]
  },
  {
   "cell_type": "code",
   "execution_count": 31,
   "id": "83839bc3",
   "metadata": {},
   "outputs": [
    {
     "name": "stdout",
     "output_type": "stream",
     "text": [
      "Z value is: -0.7453559924999305\n",
      "P-value is: 0.22802827012512783\n",
      "Cannot reject H0. P-value is 0.22802827012512783 > 0.05\n"
     ]
    }
   ],
   "source": [
    "# proportion\n",
    "import numpy as np\n",
    "from scipy import stats\n",
    "ratio = 0.1\n",
    "sample_ratio =45/500\n",
    "sample_len = 500\n",
    "\n",
    "Z = (sample_ratio-ratio)/np.sqrt(ratio*(1-ratio)/sample_len)\n",
    "print(f\"Z value is: {Z}\")\n",
    "\n",
    "P = stats.norm.cdf(Z)\n",
    "print(f\"P-value is: {P}\")\n",
    "alpha= 0.05\n",
    "if P>=alpha:\n",
    "    print(f\"Cannot reject H0. P-value is {P} > {alpha}\")\n",
    "else:\n",
    "    print(f\"Reject H0. P-value is {P}<= {alpha}\")"
   ]
  },
  {
   "cell_type": "code",
   "execution_count": null,
   "id": "130774a0",
   "metadata": {},
   "outputs": [],
   "source": [
    "# t - test"
   ]
  }
 ],
 "metadata": {
  "kernelspec": {
   "display_name": "Python 3",
   "language": "python",
   "name": "python3"
  },
  "language_info": {
   "codemirror_mode": {
    "name": "ipython",
    "version": 3
   },
   "file_extension": ".py",
   "mimetype": "text/x-python",
   "name": "python",
   "nbconvert_exporter": "python",
   "pygments_lexer": "ipython3",
   "version": "3.7.9"
  }
 },
 "nbformat": 4,
 "nbformat_minor": 5
}
