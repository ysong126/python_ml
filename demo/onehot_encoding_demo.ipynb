{
 "cells": [
  {
   "cell_type": "markdown",
   "id": "e882772f",
   "metadata": {},
   "source": [
    "### This script demonstrates one hot encoding \n",
    "#### issue increasing dimension\n",
    "### Label Encoding - for target /y\n",
    "### Categorial Encoding\n",
    "### Target Encoding"
   ]
  },
  {
   "cell_type": "code",
   "execution_count": null,
   "id": "b7e117c5",
   "metadata": {},
   "outputs": [],
   "source": [
    "import numpy as np\n",
    "import pandas as pd\n",
    "from keras.models import Sequential\n",
    "from keras.layers import Dense\n",
    "from keras.wrappers.scikit_learn import KerasClassifier\n",
    "from keras.utils import np_utils\n",
    "from sklearn.model_selection import cross_val_score\n",
    "from sklearn.model_selection import KFold\n",
    "from sklearn.preprocessing import LabelEncoder\n",
    "from sklearn.pipeline import Pipeline\n",
    "from sklearn.datasets import load_iris"
   ]
  },
  {
   "cell_type": "code",
   "execution_count": null,
   "id": "da214ffa",
   "metadata": {},
   "outputs": [],
   "source": [
    "#load dataset\n",
    "dataframe = load_iris(as_frame=True)\n",
    "X = dataframe.data.values\n",
    "y = dataframe.target\n",
    "encoder = LabelEncoder()\n",
    "encoder.fit(y)\n",
    "encoded = encoder.transform(y)\n",
    "onehot_y = np_utils.to_categorical(encoded)\n",
    "def get_model():\n",
    "    # create model\n",
    "    model = Sequential()\n",
    "    model.add(Dense(8, input_dim=4, activation='relu'))\n",
    "    model.add(Dense(3, activation='softmax'))\n",
    "    # Compile model\n",
    "    model.compile(loss='categorical_crossentropy', optimizer='adam', metrics=['accuracy'])\n",
    "    return model\n",
    "\n",
    "clf = KerasClassifier(build_fn =get_model,epochs=10,batch_size=5,verbose=0)\n",
    "kfold =KFold(n_splits=10,shuffle=True)\n",
    "results= cross_val_score(clf,X,onehot_y,cv=kfold)\n",
    "print(f'Baseline {results.mean()*100} {results.std()*100}')"
   ]
  },
  {
   "cell_type": "code",
   "execution_count": null,
   "id": "ec6be0ec",
   "metadata": {},
   "outputs": [],
   "source": [
    "clf.predict(X[0])"
   ]
  },
  {
   "cell_type": "code",
   "execution_count": null,
   "id": "96f9f579",
   "metadata": {},
   "outputs": [],
   "source": [
    "m1= get_model()\n",
    "m1.fit(X,onehot_y)"
   ]
  },
  {
   "cell_type": "code",
   "execution_count": null,
   "id": "175acd57",
   "metadata": {},
   "outputs": [],
   "source": [
    "X[:1].shape # (1,4)\n",
    "X[0,:].shape # (4,)\n",
    "# predict() takes (n,4) array like objects \n",
    "m1.predict(X[:1])"
   ]
  },
  {
   "cell_type": "code",
   "execution_count": null,
   "id": "1287e77c",
   "metadata": {},
   "outputs": [],
   "source": []
  }
 ],
 "metadata": {
  "kernelspec": {
   "display_name": "Python 3",
   "language": "python",
   "name": "python3"
  },
  "language_info": {
   "codemirror_mode": {
    "name": "ipython",
    "version": 3
   },
   "file_extension": ".py",
   "mimetype": "text/x-python",
   "name": "python",
   "nbconvert_exporter": "python",
   "pygments_lexer": "ipython3",
   "version": "3.7.9"
  }
 },
 "nbformat": 4,
 "nbformat_minor": 5
}
