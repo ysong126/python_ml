{
 "cells": [
  {
   "cell_type": "markdown",
   "id": "0111a4f2",
   "metadata": {},
   "source": [
    "### K-Nearest Neighbors (KNN) is a simple yet powerful classification and regression algorithm in machine learning. It belongs to the family of instance-based learning or lazy learning algorithms.\n",
    "\n",
    "## d(p, q) = sqrt((p1 - q1)^2 + (p2 - q2)^2 + ... + (pd - qd)^2)\n"
   ]
  },
  {
   "cell_type": "code",
   "execution_count": 5,
   "id": "b0e84f78",
   "metadata": {},
   "outputs": [],
   "source": [
    "import numpy as np\n",
    "from sklearn import datasets\n",
    "from sklearn.metrics import accuracy_score\n",
    "from sklearn.model_selection import train_test_split\n",
    "from sklearn.neighbors import KNeighborsClassifier\n",
    "\n",
    "iris = datasets.load_iris()\n",
    "iris_X = iris.data\n",
    "iris_y = iris.target"
   ]
  },
  {
   "cell_type": "code",
   "execution_count": 4,
   "id": "981e5053",
   "metadata": {},
   "outputs": [
    {
     "data": {
      "text/plain": [
       "array([[5.1, 3.5, 1.4, 0.2],\n",
       "       [4.9, 3. , 1.4, 0.2],\n",
       "       [4.7, 3.2, 1.3, 0.2],\n",
       "       [4.6, 3.1, 1.5, 0.2],\n",
       "       [5. , 3.6, 1.4, 0.2]])"
      ]
     },
     "metadata": {},
     "output_type": "display_data"
    },
    {
     "data": {
      "text/plain": [
       "array([0, 0, 0, 0, 0])"
      ]
     },
     "metadata": {},
     "output_type": "display_data"
    },
    {
     "name": "stdout",
     "output_type": "stream",
     "text": [
      "[0 0 2 2 1 1 2 1 2 2 1 2 2 1 0 2 2 1 0 1 2 0 2 0 1 0 1 1 2 0]\n",
      "[0 0 2 2 1 1 2 1 2 2 1 2 2 1 0 2 2 1 0 1 2 0 2 0 2 0 1 1 2 0]\n"
     ]
    }
   ],
   "source": [
    "display(iris_X[:5])\n",
    "display(iris_y[:5])\n",
    "X_train,X_test,y_train,y_test = train_test_split(iris_X,iris_y,test_size=0.2)\n",
    "knn=KNeighborsClassifier()\n",
    "knn.fit(X_train,y_train)\n",
    "print(knn.predict(X_test))\n",
    "print(y_test)"
   ]
  },
  {
   "cell_type": "code",
   "execution_count": 20,
   "id": "09d19114",
   "metadata": {},
   "outputs": [],
   "source": [
    "# implement \n",
    "from collections import Counter\n",
    "def load_split_random(split_rate=0.8):\n",
    "    iris = datasets.load_iris()\n",
    "    shuffle_idx = np.random.permutation(len(iris.data))\n",
    "    train_size = int(split_rate*len(iris.data))\n",
    "    \n",
    "    train_X = iris.data[shuffle_idx[:train_size]]\n",
    "    train_y = iris.target[shuffle_idx[:train_size]] \n",
    "    test_X = iris.data[shuffle_idx[train_size:]]\n",
    "    test_y = iris.target[shuffle_idx[train_size:]]\n",
    "    \n",
    "    return train_X,test_X,train_y,test_y\n",
    "\n",
    "def KNN(test_X, train_X, k=5):\n",
    "    pred_y = []\n",
    "    for x_test_elem in test_X:\n",
    "        distance = [np.sqrt(np.sum(np.power(X_train_elem - x_test_elem,2))) for X_train_elem in train_X ]\n",
    "        indexSort = np.argsort(distance)\n",
    "        nearK_y = [train_y[i] for i in indexSort[:k]]\n",
    "        count_y = Counter(nearK_y)\n",
    "        predicted_y = count_y.most_common(1)[0][0]\n",
    "        pred_y.append(predicted_y)\n",
    "    return pred_y\n",
    "\n",
    "def eval_KNN(true_y,pred_y):\n",
    "    count = np.sum(true_y==pred_y)\n",
    "    acc_score = count/len(true_y)\n",
    "    return acc_score"
   ]
  },
  {
   "cell_type": "code",
   "execution_count": 23,
   "id": "f81e1249",
   "metadata": {},
   "outputs": [],
   "source": [
    "train_X,test_X,train_y,test_y = load_split_random()\n",
    "pred_y_series =  KNN(test_X,train_X)\n",
    "acc_score = eval_KNN(test_y,pred_y_series)"
   ]
  },
  {
   "cell_type": "code",
   "execution_count": 24,
   "id": "73b0a707",
   "metadata": {},
   "outputs": [
    {
     "data": {
      "text/plain": [
       "0.9666666666666667"
      ]
     },
     "execution_count": 24,
     "metadata": {},
     "output_type": "execute_result"
    }
   ],
   "source": [
    "acc_score"
   ]
  },
  {
   "cell_type": "code",
   "execution_count": null,
   "id": "c16ed76b",
   "metadata": {},
   "outputs": [],
   "source": []
  }
 ],
 "metadata": {
  "kernelspec": {
   "display_name": "Python 3",
   "language": "python",
   "name": "python3"
  },
  "language_info": {
   "codemirror_mode": {
    "name": "ipython",
    "version": 3
   },
   "file_extension": ".py",
   "mimetype": "text/x-python",
   "name": "python",
   "nbconvert_exporter": "python",
   "pygments_lexer": "ipython3",
   "version": "3.7.9"
  }
 },
 "nbformat": 4,
 "nbformat_minor": 5
}
